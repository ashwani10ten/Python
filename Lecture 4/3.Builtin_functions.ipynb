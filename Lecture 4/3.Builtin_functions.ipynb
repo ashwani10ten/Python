{
 "cells": [
  {
   "cell_type": "markdown",
   "metadata": {},
   "source": [
    "# <center>Intermediate Python (Part-3)</center>"
   ]
  },
  {
   "cell_type": "markdown",
   "metadata": {},
   "source": [
    "# ***<center>Important built-in functions</center>***"
   ]
  },
  {
   "cell_type": "markdown",
   "metadata": {},
   "source": [
    "## 1. sort\n",
    "\n",
    "- In place sorting: __iterable__.sort()\n",
    "    \n",
    "    \n",
    "- Return a sorted iterable: sorted(__iterable__)\n",
    "\n",
    "\n",
    "- Two optional arguments: **key** and **reverse**.\n",
    "    - ***key***: specifies a **function of one argument** that is used to extract a **comparison key** from each list element\n",
    "    - ***reverse***: A boolean value. If set to True, then the list elements are sorted as if each comparison were reversed."
   ]
  },
  {
   "cell_type": "code",
   "execution_count": 3,
   "metadata": {},
   "outputs": [
    {
     "name": "stdout",
     "output_type": "stream",
     "text": [
      "[4, 6, 8, 3, 21]\n"
     ]
    }
   ],
   "source": [
    "a = [4, 3, 6, 21, 8]\n",
    "\n",
    "a.sort(key= lambda x: x%2)\n",
    "\n",
    "print(a)"
   ]
  },
  {
   "cell_type": "code",
   "execution_count": 2,
   "metadata": {},
   "outputs": [
    {
     "data": {
      "text/plain": [
       "[3, 4, 6, 8, 21]"
      ]
     },
     "execution_count": 2,
     "metadata": {},
     "output_type": "execute_result"
    }
   ],
   "source": [
    "a = [4, 3, 6, 21, 8]\n",
    "\n",
    "sorted(a)"
   ]
  },
  {
   "cell_type": "markdown",
   "metadata": {},
   "source": [
    "## 2. enumerate\n",
    "\n",
    "```python\n",
    "enumerate(iterable)\n",
    "```\n",
    "\n",
    "Returns a tuple containing a count (from start which defaults to 0) and the values obtained from iterating over the iterable."
   ]
  },
  {
   "cell_type": "code",
   "execution_count": 9,
   "metadata": {},
   "outputs": [
    {
     "name": "stdout",
     "output_type": "stream",
     "text": [
      "0  :  ('name', 'jatin')\n",
      "1  :  ('last_name', 'katyal')\n"
     ]
    }
   ],
   "source": [
    "a = {\n",
    "    \"name\": \"jatin\",\n",
    "    \"last_name\": \"katyal\"\n",
    "}\n",
    "\n",
    "for index, elem in enumerate(a.items()):\n",
    "    print(index, \" : \", elem)"
   ]
  },
  {
   "cell_type": "markdown",
   "metadata": {},
   "source": [
    "## 3. zip\n",
    "\n",
    "Make an iterator that aggregates elements from each of the iterables.\n",
    "\n",
    "![](http://s2.quickmeme.com/img/56/568cf8f60a23bea949f5bc0143607934e7fd8a7e5d0f5c44b86fc12c1ffb8185.jpg)"
   ]
  },
  {
   "cell_type": "code",
   "execution_count": 15,
   "metadata": {},
   "outputs": [
    {
     "name": "stdout",
     "output_type": "stream",
     "text": [
      "Ram  :  3  :  20\n",
      "Shyam  :  4  :  20\n",
      "Ravi  :  5  :  19\n",
      "Mohan  :  2  :  21\n"
     ]
    }
   ],
   "source": [
    "names = ['Ram', 'Shyam', 'Ravi', 'Mohan']\n",
    "scores = [3,4,5,2]\n",
    "ages = [20, 20, 19, 21]\n",
    "\n",
    "# for i in range(len(names)):\n",
    "#     print(names[i], \" : \", scores[i])\n",
    "\n",
    "for name, score, age in zip(names, scores, ages):\n",
    "    print(name, \" : \", score, \" : \", age)"
   ]
  },
  {
   "cell_type": "markdown",
   "metadata": {},
   "source": [
    "## 4. all and any\n",
    "\n",
    "![](https://i.imgflip.com/21cqld.jpg)\n",
    "\n",
    "- all\n",
    "\n",
    "Returns True if all elements of the iterable are true.\n",
    "\n",
    "- any\n",
    "\n",
    "Return True if any element of the iterable is true."
   ]
  },
  {
   "cell_type": "code",
   "execution_count": 23,
   "metadata": {},
   "outputs": [
    {
     "data": {
      "text/plain": [
       "False"
      ]
     },
     "execution_count": 23,
     "metadata": {},
     "output_type": "execute_result"
    }
   ],
   "source": [
    "a = [1, 5, 3, 3, 5]\n",
    "\n",
    "any([ x%2 == 0 for x in a ])"
   ]
  },
  {
   "cell_type": "markdown",
   "metadata": {},
   "source": [
    "## 5. globals and locals\n",
    "\n",
    "- **globals**\n",
    "\n",
    "    Return a dictionary representing the current global symbol table. \n",
    "    \n",
    "- **locals**\n",
    "\n",
    "    Return a dictionary representing the current local symbol table."
   ]
  },
  {
   "cell_type": "code",
   "execution_count": 25,
   "metadata": {},
   "outputs": [
    {
     "data": {
      "text/plain": [
       "12"
      ]
     },
     "execution_count": 25,
     "metadata": {},
     "output_type": "execute_result"
    }
   ],
   "source": [
    "12"
   ]
  },
  {
   "cell_type": "code",
   "execution_count": 26,
   "metadata": {},
   "outputs": [
    {
     "data": {
      "text/plain": [
       "{'In': ['',\n",
       "  'a = [4, 3, 6, 21, 8]\\n\\na.sort()\\n\\nprint(a)',\n",
       "  'a = [4, 3, 6, 21, 8]\\n\\nsorted(a)',\n",
       "  'a = [4, 3, 6, 21, 8]\\n\\na.sort(key= lambda x: x%2)\\n\\nprint(a)',\n",
       "  'a = [1, 2, 3, 4]\\n\\nfor x in enumerate(a):\\n    print(x)',\n",
       "  'a = [1, 2, 3, 4]\\n\\nfor index, elem in enumerate(a):\\n    print(index, \" : \", elem)',\n",
       "  'a = (1, 2, 3, 4)\\n\\nfor index, elem in enumerate(a):\\n    print(index, \" : \", elem)',\n",
       "  'a = {\\n    \"name\": \"jatin\",\\n    \"last_name\": \"katyal\"\\n}\\n\\nfor index, elem in enumerate(a):\\n    print(index, \" : \", elem)',\n",
       "  'a = {\\n    \"name\": \"jatin\",\\n    \"last_name\": \"katyal\"\\n}\\n\\nfor index, elem in enumerate(a.values()):\\n    print(index, \" : \", elem)',\n",
       "  'a = {\\n    \"name\": \"jatin\",\\n    \"last_name\": \"katyal\"\\n}\\n\\nfor index, elem in enumerate(a.items()):\\n    print(index, \" : \", elem)',\n",
       "  'names = [\\'Ram\\', \\'Shyam\\', \\'Ravi\\', \\'Mohan\\']\\nscores = [3,4,5,2]\\n\\nfor i in range(len(names)):\\n    print(names[i], \" : \", scores[i])',\n",
       "  'names = [\\'Ram\\', \\'Shyam\\', \\'Ravi\\', \\'Mohan\\']\\nscores = [3,4,5,2]\\n\\n# for i in range(len(names)):\\n#     print(names[i], \" : \", scores[i])\\n\\nfor x in zip(names, scores):\\n    print(x)',\n",
       "  'names = [\\'Ram\\', \\'Shyam\\', \\'Ravi\\', \\'Mohan\\']\\nscores = [3,4,5,2]\\n\\n# for i in range(len(names)):\\n#     print(names[i], \" : \", scores[i])\\n\\nfor name, score in zip(names, scores):\\n    print(name, \" : \", score)',\n",
       "  'names = [\\'Ram\\', \\'Shyam\\', \\'Ravi\\', \\'Mohan\\']\\nscores = [3,4,5,2]\\nages = [20, 20, 19, 21]\\n\\n# for i in range(len(names)):\\n#     print(names[i], \" : \", scores[i])\\n\\nfor name, score in zip(names, scores, ages):\\n    print(name, \" : \", score)',\n",
       "  'names = [\\'Ram\\', \\'Shyam\\', \\'Ravi\\', \\'Mohan\\']\\nscores = [3,4,5,2]\\nages = [20, 20, 19, 21]\\n\\n# for i in range(len(names)):\\n#     print(names[i], \" : \", scores[i])\\n\\nfor name, score, age in zip(names, scores, ages):\\n    print(name, \" : \", score)',\n",
       "  'names = [\\'Ram\\', \\'Shyam\\', \\'Ravi\\', \\'Mohan\\']\\nscores = [3,4,5,2]\\nages = [20, 20, 19, 21]\\n\\n# for i in range(len(names)):\\n#     print(names[i], \" : \", scores[i])\\n\\nfor name, score, age in zip(names, scores, ages):\\n    print(name, \" : \", score, \" : \", age)',\n",
       "  'all([ True, False, True ])',\n",
       "  'all([ True, True, True ])',\n",
       "  'all([ 1, 2, 3, 4 ])',\n",
       "  'all([ 1, 2, 3, 0 ])',\n",
       "  'a = [1, 2, 3, 4, 5]\\n\\nall([ x%2 == 0 for x in a ])',\n",
       "  'a = [2, 2, 6, 4, 52]\\n\\nall([ x%2 == 0 for x in a ])',\n",
       "  'a = [1, 2, 3, 4, 5]\\n\\nany([ x%2 == 0 for x in a ])',\n",
       "  'a = [1, 5, 3, 3, 5]\\n\\nany([ x%2 == 0 for x in a ])',\n",
       "  'globals()',\n",
       "  '12',\n",
       "  'globals()'],\n",
       " 'Out': {2: [3, 4, 6, 8, 21],\n",
       "  16: False,\n",
       "  17: True,\n",
       "  18: True,\n",
       "  19: False,\n",
       "  20: False,\n",
       "  21: True,\n",
       "  22: True,\n",
       "  23: False,\n",
       "  24: {...},\n",
       "  25: 12},\n",
       " '_': 12,\n",
       " '_16': False,\n",
       " '_17': True,\n",
       " '_18': True,\n",
       " '_19': False,\n",
       " '_2': [3, 4, 6, 8, 21],\n",
       " '_20': False,\n",
       " '_21': True,\n",
       " '_22': True,\n",
       " '_23': False,\n",
       " '_24': {...},\n",
       " '_25': 12,\n",
       " '__': {...},\n",
       " '___': False,\n",
       " '__builtin__': <module 'builtins' (built-in)>,\n",
       " '__builtins__': <module 'builtins' (built-in)>,\n",
       " '__doc__': 'Automatically created module for IPython interactive environment',\n",
       " '__loader__': None,\n",
       " '__name__': '__main__',\n",
       " '__package__': None,\n",
       " '__spec__': None,\n",
       " '_dh': ['/Users/jatinkatyal/Desktop/jatin/Python-Django-June-2018/Lecture 4'],\n",
       " '_i': '12',\n",
       " '_i1': 'a = [4, 3, 6, 21, 8]\\n\\na.sort()\\n\\nprint(a)',\n",
       " '_i10': 'names = [\\'Ram\\', \\'Shyam\\', \\'Ravi\\', \\'Mohan\\']\\nscores = [3,4,5,2]\\n\\nfor i in range(len(names)):\\n    print(names[i], \" : \", scores[i])',\n",
       " '_i11': 'names = [\\'Ram\\', \\'Shyam\\', \\'Ravi\\', \\'Mohan\\']\\nscores = [3,4,5,2]\\n\\n# for i in range(len(names)):\\n#     print(names[i], \" : \", scores[i])\\n\\nfor x in zip(names, scores):\\n    print(x)',\n",
       " '_i12': 'names = [\\'Ram\\', \\'Shyam\\', \\'Ravi\\', \\'Mohan\\']\\nscores = [3,4,5,2]\\n\\n# for i in range(len(names)):\\n#     print(names[i], \" : \", scores[i])\\n\\nfor name, score in zip(names, scores):\\n    print(name, \" : \", score)',\n",
       " '_i13': 'names = [\\'Ram\\', \\'Shyam\\', \\'Ravi\\', \\'Mohan\\']\\nscores = [3,4,5,2]\\nages = [20, 20, 19, 21]\\n\\n# for i in range(len(names)):\\n#     print(names[i], \" : \", scores[i])\\n\\nfor name, score in zip(names, scores, ages):\\n    print(name, \" : \", score)',\n",
       " '_i14': 'names = [\\'Ram\\', \\'Shyam\\', \\'Ravi\\', \\'Mohan\\']\\nscores = [3,4,5,2]\\nages = [20, 20, 19, 21]\\n\\n# for i in range(len(names)):\\n#     print(names[i], \" : \", scores[i])\\n\\nfor name, score, age in zip(names, scores, ages):\\n    print(name, \" : \", score)',\n",
       " '_i15': 'names = [\\'Ram\\', \\'Shyam\\', \\'Ravi\\', \\'Mohan\\']\\nscores = [3,4,5,2]\\nages = [20, 20, 19, 21]\\n\\n# for i in range(len(names)):\\n#     print(names[i], \" : \", scores[i])\\n\\nfor name, score, age in zip(names, scores, ages):\\n    print(name, \" : \", score, \" : \", age)',\n",
       " '_i16': 'all([ True, False, True ])',\n",
       " '_i17': 'all([ True, True, True ])',\n",
       " '_i18': 'all([ 1, 2, 3, 4 ])',\n",
       " '_i19': 'all([ 1, 2, 3, 0 ])',\n",
       " '_i2': 'a = [4, 3, 6, 21, 8]\\n\\nsorted(a)',\n",
       " '_i20': 'a = [1, 2, 3, 4, 5]\\n\\nall([ x%2 == 0 for x in a ])',\n",
       " '_i21': 'a = [2, 2, 6, 4, 52]\\n\\nall([ x%2 == 0 for x in a ])',\n",
       " '_i22': 'a = [1, 2, 3, 4, 5]\\n\\nany([ x%2 == 0 for x in a ])',\n",
       " '_i23': 'a = [1, 5, 3, 3, 5]\\n\\nany([ x%2 == 0 for x in a ])',\n",
       " '_i24': 'globals()',\n",
       " '_i25': '12',\n",
       " '_i26': 'globals()',\n",
       " '_i3': 'a = [4, 3, 6, 21, 8]\\n\\na.sort(key= lambda x: x%2)\\n\\nprint(a)',\n",
       " '_i4': 'a = [1, 2, 3, 4]\\n\\nfor x in enumerate(a):\\n    print(x)',\n",
       " '_i5': 'a = [1, 2, 3, 4]\\n\\nfor index, elem in enumerate(a):\\n    print(index, \" : \", elem)',\n",
       " '_i6': 'a = (1, 2, 3, 4)\\n\\nfor index, elem in enumerate(a):\\n    print(index, \" : \", elem)',\n",
       " '_i7': 'a = {\\n    \"name\": \"jatin\",\\n    \"last_name\": \"katyal\"\\n}\\n\\nfor index, elem in enumerate(a):\\n    print(index, \" : \", elem)',\n",
       " '_i8': 'a = {\\n    \"name\": \"jatin\",\\n    \"last_name\": \"katyal\"\\n}\\n\\nfor index, elem in enumerate(a.values()):\\n    print(index, \" : \", elem)',\n",
       " '_i9': 'a = {\\n    \"name\": \"jatin\",\\n    \"last_name\": \"katyal\"\\n}\\n\\nfor index, elem in enumerate(a.items()):\\n    print(index, \" : \", elem)',\n",
       " '_ih': ['',\n",
       "  'a = [4, 3, 6, 21, 8]\\n\\na.sort()\\n\\nprint(a)',\n",
       "  'a = [4, 3, 6, 21, 8]\\n\\nsorted(a)',\n",
       "  'a = [4, 3, 6, 21, 8]\\n\\na.sort(key= lambda x: x%2)\\n\\nprint(a)',\n",
       "  'a = [1, 2, 3, 4]\\n\\nfor x in enumerate(a):\\n    print(x)',\n",
       "  'a = [1, 2, 3, 4]\\n\\nfor index, elem in enumerate(a):\\n    print(index, \" : \", elem)',\n",
       "  'a = (1, 2, 3, 4)\\n\\nfor index, elem in enumerate(a):\\n    print(index, \" : \", elem)',\n",
       "  'a = {\\n    \"name\": \"jatin\",\\n    \"last_name\": \"katyal\"\\n}\\n\\nfor index, elem in enumerate(a):\\n    print(index, \" : \", elem)',\n",
       "  'a = {\\n    \"name\": \"jatin\",\\n    \"last_name\": \"katyal\"\\n}\\n\\nfor index, elem in enumerate(a.values()):\\n    print(index, \" : \", elem)',\n",
       "  'a = {\\n    \"name\": \"jatin\",\\n    \"last_name\": \"katyal\"\\n}\\n\\nfor index, elem in enumerate(a.items()):\\n    print(index, \" : \", elem)',\n",
       "  'names = [\\'Ram\\', \\'Shyam\\', \\'Ravi\\', \\'Mohan\\']\\nscores = [3,4,5,2]\\n\\nfor i in range(len(names)):\\n    print(names[i], \" : \", scores[i])',\n",
       "  'names = [\\'Ram\\', \\'Shyam\\', \\'Ravi\\', \\'Mohan\\']\\nscores = [3,4,5,2]\\n\\n# for i in range(len(names)):\\n#     print(names[i], \" : \", scores[i])\\n\\nfor x in zip(names, scores):\\n    print(x)',\n",
       "  'names = [\\'Ram\\', \\'Shyam\\', \\'Ravi\\', \\'Mohan\\']\\nscores = [3,4,5,2]\\n\\n# for i in range(len(names)):\\n#     print(names[i], \" : \", scores[i])\\n\\nfor name, score in zip(names, scores):\\n    print(name, \" : \", score)',\n",
       "  'names = [\\'Ram\\', \\'Shyam\\', \\'Ravi\\', \\'Mohan\\']\\nscores = [3,4,5,2]\\nages = [20, 20, 19, 21]\\n\\n# for i in range(len(names)):\\n#     print(names[i], \" : \", scores[i])\\n\\nfor name, score in zip(names, scores, ages):\\n    print(name, \" : \", score)',\n",
       "  'names = [\\'Ram\\', \\'Shyam\\', \\'Ravi\\', \\'Mohan\\']\\nscores = [3,4,5,2]\\nages = [20, 20, 19, 21]\\n\\n# for i in range(len(names)):\\n#     print(names[i], \" : \", scores[i])\\n\\nfor name, score, age in zip(names, scores, ages):\\n    print(name, \" : \", score)',\n",
       "  'names = [\\'Ram\\', \\'Shyam\\', \\'Ravi\\', \\'Mohan\\']\\nscores = [3,4,5,2]\\nages = [20, 20, 19, 21]\\n\\n# for i in range(len(names)):\\n#     print(names[i], \" : \", scores[i])\\n\\nfor name, score, age in zip(names, scores, ages):\\n    print(name, \" : \", score, \" : \", age)',\n",
       "  'all([ True, False, True ])',\n",
       "  'all([ True, True, True ])',\n",
       "  'all([ 1, 2, 3, 4 ])',\n",
       "  'all([ 1, 2, 3, 0 ])',\n",
       "  'a = [1, 2, 3, 4, 5]\\n\\nall([ x%2 == 0 for x in a ])',\n",
       "  'a = [2, 2, 6, 4, 52]\\n\\nall([ x%2 == 0 for x in a ])',\n",
       "  'a = [1, 2, 3, 4, 5]\\n\\nany([ x%2 == 0 for x in a ])',\n",
       "  'a = [1, 5, 3, 3, 5]\\n\\nany([ x%2 == 0 for x in a ])',\n",
       "  'globals()',\n",
       "  '12',\n",
       "  'globals()'],\n",
       " '_ii': 'globals()',\n",
       " '_iii': 'a = [1, 5, 3, 3, 5]\\n\\nany([ x%2 == 0 for x in a ])',\n",
       " '_oh': {2: [3, 4, 6, 8, 21],\n",
       "  16: False,\n",
       "  17: True,\n",
       "  18: True,\n",
       "  19: False,\n",
       "  20: False,\n",
       "  21: True,\n",
       "  22: True,\n",
       "  23: False,\n",
       "  24: {...},\n",
       "  25: 12},\n",
       " 'a': [1, 5, 3, 3, 5],\n",
       " 'age': 21,\n",
       " 'ages': [20, 20, 19, 21],\n",
       " 'elem': ('last_name', 'katyal'),\n",
       " 'exit': <IPython.core.autocall.ZMQExitAutocall at 0x10fe00390>,\n",
       " 'get_ipython': <bound method InteractiveShell.get_ipython of <ipykernel.zmqshell.ZMQInteractiveShell object at 0x10fd99320>>,\n",
       " 'i': 3,\n",
       " 'index': 1,\n",
       " 'name': 'Mohan',\n",
       " 'names': ['Ram', 'Shyam', 'Ravi', 'Mohan'],\n",
       " 'quit': <IPython.core.autocall.ZMQExitAutocall at 0x10fe00390>,\n",
       " 'score': 2,\n",
       " 'scores': [3, 4, 5, 2],\n",
       " 'x': ('Mohan', 2)}"
      ]
     },
     "execution_count": 26,
     "metadata": {},
     "output_type": "execute_result"
    }
   ],
   "source": [
    "globals()"
   ]
  },
  {
   "cell_type": "code",
   "execution_count": 30,
   "metadata": {},
   "outputs": [],
   "source": [
    "d = 10"
   ]
  },
  {
   "cell_type": "code",
   "execution_count": 31,
   "metadata": {},
   "outputs": [],
   "source": [
    "def myfunc(a,b):\n",
    "    global d\n",
    "    c=a+b\n",
    "    print(locals())\n",
    "    return c"
   ]
  },
  {
   "cell_type": "code",
   "execution_count": 32,
   "metadata": {},
   "outputs": [
    {
     "name": "stdout",
     "output_type": "stream",
     "text": [
      "{'c': 3, 'b': 2, 'a': 1}\n"
     ]
    },
    {
     "data": {
      "text/plain": [
       "3"
      ]
     },
     "execution_count": 32,
     "metadata": {},
     "output_type": "execute_result"
    }
   ],
   "source": [
    "myfunc(1, 2)"
   ]
  },
  {
   "cell_type": "markdown",
   "metadata": {},
   "source": [
    "## 6. eval\n",
    "\n",
    "```python\n",
    "eval(expression, globals=None, locals=None)\n",
    "```\n",
    "\n",
    "The expression argument is parsed and evaluated as a Python expression using the globals and locals dictionaries as global and local namespace."
   ]
  },
  {
   "cell_type": "code",
   "execution_count": 35,
   "metadata": {},
   "outputs": [
    {
     "data": {
      "text/plain": [
       "7"
      ]
     },
     "execution_count": 35,
     "metadata": {},
     "output_type": "execute_result"
    }
   ],
   "source": [
    "eval(\"1 + 2 + 4\")"
   ]
  },
  {
   "cell_type": "code",
   "execution_count": 38,
   "metadata": {},
   "outputs": [],
   "source": [
    "eval?"
   ]
  },
  {
   "cell_type": "code",
   "execution_count": 42,
   "metadata": {},
   "outputs": [],
   "source": [
    "d = {\"a\" : 10}"
   ]
  },
  {
   "cell_type": "code",
   "execution_count": 41,
   "metadata": {},
   "outputs": [
    {
     "name": "stdout",
     "output_type": "stream",
     "text": [
      "<class 'int'>\n"
     ]
    }
   ],
   "source": [
    "print(type(d))"
   ]
  },
  {
   "cell_type": "code",
   "execution_count": 43,
   "metadata": {},
   "outputs": [
    {
     "name": "stdout",
     "output_type": "stream",
     "text": [
      "10\n"
     ]
    }
   ],
   "source": [
    "eval(\"print(a)\", d)"
   ]
  },
  {
   "cell_type": "markdown",
   "metadata": {},
   "source": [
    "## 7. ord\n",
    "\n",
    "```python\n",
    "ord(character)\n",
    "```\n",
    "\n",
    "It returns the ASCII equivalent of the character given"
   ]
  },
  {
   "cell_type": "code",
   "execution_count": 46,
   "metadata": {},
   "outputs": [
    {
     "data": {
      "text/plain": [
       "97"
      ]
     },
     "execution_count": 46,
     "metadata": {},
     "output_type": "execute_result"
    }
   ],
   "source": [
    "ord('a')"
   ]
  },
  {
   "cell_type": "markdown",
   "metadata": {},
   "source": [
    "## 8. bin\n",
    "\n",
    "```python\n",
    "bin(number)\n",
    "```\n",
    "\n",
    "It returns the binary equivalent of the number"
   ]
  },
  {
   "cell_type": "code",
   "execution_count": 52,
   "metadata": {},
   "outputs": [
    {
     "data": {
      "text/plain": [
       "'-0b11'"
      ]
     },
     "execution_count": 52,
     "metadata": {},
     "output_type": "execute_result"
    }
   ],
   "source": [
    "bin(-3)"
   ]
  },
  {
   "cell_type": "markdown",
   "metadata": {},
   "source": [
    "## Other built-in functions can be found [here](https://docs.python.org/3/library/functions.html)"
   ]
  }
 ],
 "metadata": {
  "kernelspec": {
   "display_name": "Python 3",
   "language": "python",
   "name": "python3"
  },
  "language_info": {
   "codemirror_mode": {
    "name": "ipython",
    "version": 3
   },
   "file_extension": ".py",
   "mimetype": "text/x-python",
   "name": "python",
   "nbconvert_exporter": "python",
   "pygments_lexer": "ipython3",
   "version": "3.6.3"
  }
 },
 "nbformat": 4,
 "nbformat_minor": 2
}
