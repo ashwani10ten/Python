{
 "cells": [
  {
   "cell_type": "markdown",
   "metadata": {},
   "source": [
    "# <center>Intermediate Python (Part-3)</center>"
   ]
  },
  {
   "cell_type": "markdown",
   "metadata": {},
   "source": [
    "# ***<center>Important built-in functions</center>***"
   ]
  },
  {
   "cell_type": "markdown",
   "metadata": {},
   "source": [
    "## 1. sort\n",
    "\n",
    "- In place sorting: __iterable__.sort()\n",
    "    \n",
    "    \n",
    "- Return a sorted iterable: sorted(__iterable__)\n",
    "\n",
    "\n",
    "- Two optional arguments: **key** and **reverse**.\n",
    "    - ***key***: specifies a **function of one argument** that is used to extract a **comparison key** from each list element\n",
    "    - ***reverse***: A boolean value. If set to True, then the list elements are sorted as if each comparison were reversed."
   ]
  },
  {
   "cell_type": "code",
   "execution_count": 3,
   "metadata": {},
   "outputs": [
    {
     "name": "stdout",
     "output_type": "stream",
     "text": [
      "[4, 6, 8, 3, 21]\n"
     ]
    }
   ],
   "source": [
    "a = [4, 3, 6, 21, 8]\n",
    "\n",
    "a.sort(key= lambda x: x%2)\n",
    "\n",
    "print(a)"
   ]
  },
  {
   "cell_type": "code",
   "execution_count": 2,
   "metadata": {},
   "outputs": [
    {
     "data": {
      "text/plain": [
       "[3, 4, 6, 8, 21]"
      ]
     },
     "execution_count": 2,
     "metadata": {},
     "output_type": "execute_result"
    }
   ],
   "source": [
    "a = [4, 3, 6, 21, 8]\n",
    "\n",
    "sorted(a)"
   ]
  },
  {
   "cell_type": "markdown",
   "metadata": {},
   "source": [
    "## 2. enumerate\n",
    "\n",
    "```python\n",
    "enumerate(iterable)\n",
    "```\n",
    "\n",
    "Returns a tuple containing a count (from start which defaults to 0) and the values obtained from iterating over the iterable."
   ]
  },
  {
   "cell_type": "code",
   "execution_count": null,
   "metadata": {},
   "outputs": [],
   "source": []
  },
  {
   "cell_type": "markdown",
   "metadata": {},
   "source": [
    "## 3. zip\n",
    "\n",
    "Make an iterator that aggregates elements from each of the iterables.\n",
    "\n",
    "![](http://s2.quickmeme.com/img/56/568cf8f60a23bea949f5bc0143607934e7fd8a7e5d0f5c44b86fc12c1ffb8185.jpg)"
   ]
  },
  {
   "cell_type": "code",
   "execution_count": null,
   "metadata": {},
   "outputs": [],
   "source": [
    "names = ['Ram', 'Shyam', 'Ravi', 'Mohan']\n",
    "scores = [3,4,5,2]"
   ]
  },
  {
   "cell_type": "markdown",
   "metadata": {},
   "source": [
    "## 4. all and any\n",
    "\n",
    "![](https://i.imgflip.com/21cqld.jpg)\n",
    "\n",
    "- all\n",
    "\n",
    "Returns True if all elements of the iterable are true.\n",
    "\n",
    "- any\n",
    "\n",
    "Return True if any element of the iterable is true."
   ]
  },
  {
   "cell_type": "code",
   "execution_count": null,
   "metadata": {},
   "outputs": [],
   "source": []
  },
  {
   "cell_type": "markdown",
   "metadata": {},
   "source": [
    "## 5. globals and locals\n",
    "\n",
    "- **globals**\n",
    "\n",
    "    Return a dictionary representing the current global symbol table. \n",
    "    \n",
    "- **locals**\n",
    "\n",
    "    Return a dictionary representing the current local symbol table."
   ]
  },
  {
   "cell_type": "code",
   "execution_count": null,
   "metadata": {},
   "outputs": [],
   "source": []
  },
  {
   "cell_type": "code",
   "execution_count": null,
   "metadata": {},
   "outputs": [],
   "source": [
    "def myfunc(a,b):\n",
    "    c=a+b\n",
    "    print(locals())\n",
    "    return c"
   ]
  },
  {
   "cell_type": "code",
   "execution_count": null,
   "metadata": {},
   "outputs": [],
   "source": []
  },
  {
   "cell_type": "markdown",
   "metadata": {},
   "source": [
    "## 6. eval\n",
    "\n",
    "```python\n",
    "eval(expression, globals=None, locals=None)\n",
    "```\n",
    "\n",
    "The expression argument is parsed and evaluated as a Python expression using the globals and locals dictionaries as global and local namespace."
   ]
  },
  {
   "cell_type": "code",
   "execution_count": null,
   "metadata": {},
   "outputs": [],
   "source": []
  },
  {
   "cell_type": "markdown",
   "metadata": {},
   "source": [
    "## 7. ord\n",
    "\n",
    "```python\n",
    "ord(character)\n",
    "```\n",
    "\n",
    "It returns the ASCII equivalent of the character given"
   ]
  },
  {
   "cell_type": "code",
   "execution_count": null,
   "metadata": {},
   "outputs": [],
   "source": []
  },
  {
   "cell_type": "markdown",
   "metadata": {},
   "source": [
    "## 8. bin\n",
    "\n",
    "```python\n",
    "bin(number)\n",
    "```\n",
    "\n",
    "It returns the binary equivalent of the number"
   ]
  },
  {
   "cell_type": "code",
   "execution_count": null,
   "metadata": {},
   "outputs": [],
   "source": []
  },
  {
   "cell_type": "markdown",
   "metadata": {},
   "source": [
    "## Other built-in functions can be found [here](https://docs.python.org/3/library/functions.html)"
   ]
  }
 ],
 "metadata": {
  "kernelspec": {
   "display_name": "Python 3",
   "language": "python",
   "name": "python3"
  },
  "language_info": {
   "codemirror_mode": {
    "name": "ipython",
    "version": 3
   },
   "file_extension": ".py",
   "mimetype": "text/x-python",
   "name": "python",
   "nbconvert_exporter": "python",
   "pygments_lexer": "ipython3",
   "version": "3.6.3"
  }
 },
 "nbformat": 4,
 "nbformat_minor": 2
}
